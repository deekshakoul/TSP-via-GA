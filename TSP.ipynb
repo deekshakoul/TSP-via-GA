{
  "nbformat": 4,
  "nbformat_minor": 0,
  "metadata": {
    "colab": {
      "name": "TSP.ipynb",
      "provenance": [],
      "collapsed_sections": [],
      "authorship_tag": "ABX9TyNfYZ4X3RAwSdXoa/FlVBz0",
      "include_colab_link": true
    },
    "kernelspec": {
      "name": "python3",
      "display_name": "Python 3"
    }
  },
  "cells": [
    {
      "cell_type": "markdown",
      "metadata": {
        "id": "view-in-github",
        "colab_type": "text"
      },
      "source": [
        "<a href=\"https://colab.research.google.com/github/deekshakoul/TSP-via-GA/blob/main/TSP.ipynb\" target=\"_parent\"><img src=\"https://colab.research.google.com/assets/colab-badge.svg\" alt=\"Open In Colab\"/></a>"
      ]
    },
    {
      "cell_type": "code",
      "metadata": {
        "id": "ivNf_KkOytRY"
      },
      "source": [
        "import math\r\n",
        "import numpy as np\r\n",
        "import matplotlib.pyplot as plt\r\n",
        "import random as rnd"
      ],
      "execution_count": null,
      "outputs": []
    },
    {
      "cell_type": "markdown",
      "metadata": {
        "id": "WMUkvj-Jhplj"
      },
      "source": [
        "READ FILE - contains coordinates of 100 cities"
      ]
    },
    {
      "cell_type": "code",
      "metadata": {
        "id": "WN3CiQFWyz-L"
      },
      "source": [
        "f = open('/content/City_Coordinates.txt','r') #PATH OF FILE City_Coordinates.txt\r\n",
        "text = f.readlines()\r\n",
        "f.close()\r\n",
        "\r\n",
        "X = []\r\n",
        "Y = []\r\n",
        "for i in range(len(text)):\r\n",
        "  x,y = text[i].split(',')\r\n",
        "  X.append(int(x))\r\n",
        "  Y.append(int(y.strip()))\r\n",
        "city_map = dict(enumerate(zip(X,Y))) # A dict mapping of city index to location\r\n",
        "cities = list(city_map.keys()) # city - index"
      ],
      "execution_count": null,
      "outputs": []
    },
    {
      "cell_type": "markdown",
      "metadata": {
        "id": "wzCjiHSJ1GWc"
      },
      "source": [
        "Initialize population"
      ]
    },
    {
      "cell_type": "code",
      "metadata": {
        "id": "yFSGdR_41EQS"
      },
      "source": [
        "def initialize_pop(pop_size=10):\r\n",
        "    population = []\r\n",
        "    for i in range(pop_size):\r\n",
        "        tour = cities.copy()\r\n",
        "        rnd.shuffle(tour) \r\n",
        "        population.append(tour)\r\n",
        "    return population"
      ],
      "execution_count": null,
      "outputs": []
    },
    {
      "cell_type": "markdown",
      "metadata": {
        "id": "41UPjFWJ1mP2"
      },
      "source": [
        "Fitness - total round trip distance covered from start of city to back"
      ]
    },
    {
      "cell_type": "code",
      "metadata": {
        "id": "AawZ035mKO2T"
      },
      "source": [
        "def distance(c1,c2):\r\n",
        "  return math.sqrt( (c1[0]-c2[0])**2 + (c1[1]-c2[1])**2 )  "
      ],
      "execution_count": null,
      "outputs": []
    },
    {
      "cell_type": "code",
      "metadata": {
        "id": "yhvv099O1iZp"
      },
      "source": [
        "def fitness(solution):\r\n",
        "    total_distance = 0\r\n",
        "    \r\n",
        "    for i in range(len(solution)-1):\r\n",
        "        p1 = city_map[solution[i]]\r\n",
        "        p2 = city_map[solution[i+1]]\r\n",
        "        total_distance += distance(p1, p2)\r\n",
        "    p1 = city_map[solution[-1]]\r\n",
        "    p2 = city_map[solution[0]]\r\n",
        "    total_distance += distance(p1, p2)\r\n",
        "       \r\n",
        "    return total_distance"
      ],
      "execution_count": null,
      "outputs": []
    },
    {
      "cell_type": "code",
      "metadata": {
        "id": "WKB_157b18za"
      },
      "source": [
        "def selection(population):\r\n",
        "  fit_values = list(map(fitness, population))\r\n",
        "  inv_fitness = [max(fit_values) - x for x in fit_values]\r\n",
        "  weights = [x / sum(inv_fitness) for x in inv_fitness]\r\n",
        "  select_p = rnd.choices(population, weights)[0] #most fittest tour is selected\r\n",
        "  return select_p"
      ],
      "execution_count": null,
      "outputs": []
    },
    {
      "cell_type": "markdown",
      "metadata": {
        "id": "GtKcderTtbjK"
      },
      "source": [
        "Implementation of cross-overs"
      ]
    },
    {
      "cell_type": "code",
      "metadata": {
        "id": "hf-maKXZysRp"
      },
      "source": [
        "def cx(p1, p2): #take first element from p1\r\n",
        "  child = [-1]*len(p1)\r\n",
        "  first_index = 0 #index to start first cycle\r\n",
        "  val = p1[first_index]\r\n",
        "  child[first_index] = val\r\n",
        "  flag=True\r\n",
        "  turn = 1\r\n",
        "  t1 = p1\r\n",
        "  t2 = p2\r\n",
        "\r\n",
        "  while (flag):\r\n",
        "    #ONE CYCLE\r\n",
        "    while (t2.index(val)!= first_index):\r\n",
        "      ind = t2.index(val) #at this index place value of p1/t1\r\n",
        "      val = t1[ind]\r\n",
        "      child[ind] = val\r\n",
        "    # print(child,\"after inner whiile\")  \r\n",
        "    if -1 not in child:\r\n",
        "      flag = False\r\n",
        "    else:\r\n",
        "      first_index = child.index(-1)\r\n",
        "      if turn == 1: #we have started cycle with p1 ...now we need to chnage this\r\n",
        "        t1 = p2\r\n",
        "        t2 = p1\r\n",
        "        turn = 2 # now start with other parent\r\n",
        "      else:\r\n",
        "        t1 = p1\r\n",
        "        t2 = p2\r\n",
        "        turn = 1       \r\n",
        "      val = t1[first_index]\r\n",
        "      child[first_index] = val\r\n",
        "  return child"
      ],
      "execution_count": null,
      "outputs": []
    },
    {
      "cell_type": "code",
      "metadata": {
        "id": "f_CU0mG-5nG-"
      },
      "source": [
        "p1 = [1,2,3,4,5]\r\n",
        "p2 = [4,3,1,5,2]\r\n",
        "#child should be 1 2 3 4 5\r\n",
        "cx(p1,p2)"
      ],
      "execution_count": null,
      "outputs": []
    },
    {
      "cell_type": "code",
      "metadata": {
        "id": "0_gKP38QapgO"
      },
      "source": [
        "def pmx(p1, p2): #changes cutout parts of p1 and replace with that of p2, rest of genes of p1 ordered accordingly\r\n",
        "  c1 = rnd.randint(0, len(p1)-2)\r\n",
        "  c2 = rnd.randint(c1+1, len(p2)-1)\r\n",
        "  # print(c1,c2)\r\n",
        "  child = [-1]*len(p1)\r\n",
        "  child[c1:c2+1] = p2[c1:c2+1]\r\n",
        "  for i in range(0,c1):\r\n",
        "    if p1[i] not in child:\r\n",
        "      child[i] = p1[i]\r\n",
        "    else:\r\n",
        "      ind = child.index(p1[i]) #6  \r\n",
        "      pp = p1[ind] #value at index: ind i.e 6\r\n",
        "      while (pp in child):\r\n",
        "        ind = child.index(pp) #5\r\n",
        "        pp = p1[ind] #value at index: ind i.e 5\r\n",
        "      child[i] = pp\r\n",
        "  \r\n",
        "  for i in range(c2+1,len(p1)):\r\n",
        "    if p1[i] not in child:\r\n",
        "      child[i] = p1[i]\r\n",
        "    else:\r\n",
        "      ind = child.index(p1[i]) #6  \r\n",
        "      pp = p1[ind] #value at index: ind i.e 6\r\n",
        "      while (pp in child):\r\n",
        "        ind = child.index(pp) #5\r\n",
        "        pp = p1[ind] #value at index: ind i.e 5\r\n",
        "      child[i] = pp\r\n",
        "  \r\n",
        "  return child"
      ],
      "execution_count": null,
      "outputs": []
    },
    {
      "cell_type": "code",
      "metadata": {
        "id": "djFvdyQU4VCU"
      },
      "source": [
        "def ox1(p1, p2): #copy cut points data of P1\r\n",
        "  c1 =rnd.randint(0, len(p1)-2)\r\n",
        "  c2 =rnd.randint(c1+1, len(p2)-1) #include c2 too\r\n",
        "  # print(c1,\" # \",c2)\r\n",
        "  rem = [i for i in range(c2+1,len(p1))] \r\n",
        "  rem.extend([i for i in range(c1)]) \r\n",
        "  n = len(rem) #indices that i need to copy in child\r\n",
        "  rem.extend([i for i in range(c1,c2+1)])\r\n",
        "\r\n",
        "  child = [-1]*len(p1)\r\n",
        "  child[c1:c2+1] = p1[c1:c2+1]\r\n",
        "\r\n",
        "  for i in range(n):\r\n",
        "    j=i\r\n",
        "    while p2[rem[j]] in child:\r\n",
        "      j = j + 1  \r\n",
        "    child[rem[i]] = p2[rem[j]]\r\n",
        "\r\n",
        "  return child"
      ],
      "execution_count": null,
      "outputs": []
    },
    {
      "cell_type": "code",
      "metadata": {
        "id": "rBH4snemaffD"
      },
      "source": [
        "def ox2(p1,p2): \r\n",
        "  k = rnd.randint(4,40)#len(p1) #random number of positions to conisder\r\n",
        "  n = sorted(rnd.sample(range(0,len(p1)), k))\r\n",
        "  #n=[2,4,6] #need to have indieces in sorted order.....imp\r\n",
        "  #print(n)\r\n",
        "  cities = [p2[i] for i in n] #maintain order of p2\r\n",
        "  #print(\"city\", cities)\r\n",
        "  cities_index_p1 = [p1.index(i) for i in cities] \r\n",
        "  cities_index_p1 = sorted(cities_index_p1)\r\n",
        "  child = p1\r\n",
        "  i=0\r\n",
        "  for c in cities_index_p1:\r\n",
        "    child[c] = cities[i]\r\n",
        "    i=i+1\r\n",
        "    \r\n",
        "  #print(child)\r\n",
        "  return child"
      ],
      "execution_count": null,
      "outputs": []
    },
    {
      "cell_type": "code",
      "metadata": {
        "id": "zGYoh9Tmwv-w"
      },
      "source": [
        "def pos(p1,p2):\r\n",
        "  k= rnd.randint(3,20)#len(p1)\r\n",
        "  n = rnd.sample(range(0,len(p1)), k) #generates position\r\n",
        "  #print(n)\r\n",
        "  child = p1\r\n",
        "  for i in n:\r\n",
        "    t2 = p2[i]\r\n",
        "    t1 = p1[i]\r\n",
        "    ind = p1.index(t2)\r\n",
        "    p1[i] = t2\r\n",
        "    p1[ind] = t1\r\n",
        "  return child  "
      ],
      "execution_count": null,
      "outputs": []
    },
    {
      "cell_type": "code",
      "metadata": {
        "id": "YdexlHe83gIO"
      },
      "source": [
        "def mpx(p1,p2):\r\n",
        "  k = rnd.randint(3,20) #substring length\r\n",
        "  c1 = rnd.randint(0, len(p2)-k) \r\n",
        "  part_p1 = p1[c1:c1+k]\r\n",
        "  # child = p2\r\n",
        "  child = [i for i in p2 if i not in part_p1]\r\n",
        "  for i in range(k):\r\n",
        "    child.insert(0,part_p1[k-i-1])\r\n",
        "  # print(child)\r\n",
        "  return child"
      ],
      "execution_count": null,
      "outputs": []
    },
    {
      "cell_type": "code",
      "metadata": {
        "id": "j6woAac66npw"
      },
      "source": [
        "def apc(p1,p2):\r\n",
        "  #start from parent 1\r\n",
        "  child = []\r\n",
        "  for i in range(len(p1)):\r\n",
        "    if p1[i] not in child:\r\n",
        "      child.append(p1[i])\r\n",
        "    if p2[i] not in child:\r\n",
        "      child.append(p2[i])  \r\n",
        "  return child    "
      ],
      "execution_count": null,
      "outputs": []
    },
    {
      "cell_type": "code",
      "metadata": {
        "id": "RbufXa4h2J7K"
      },
      "source": [
        "def mutation(parent):\r\n",
        "    posA = rnd.randint(0, len(parent)-1)\r\n",
        "    posB = rnd.randint(0, len(parent)-1)\r\n",
        "    \r\n",
        "    child = parent.copy()\r\n",
        "    child[posA] = parent[posB]\r\n",
        "    child[posB] = parent[posA]\r\n",
        "    \r\n",
        "    return child"
      ],
      "execution_count": null,
      "outputs": []
    },
    {
      "cell_type": "code",
      "metadata": {
        "id": "SiPfv3MwmbNs"
      },
      "source": [
        "def GA(pop_size, max_generations, pcross, pmut, elite_size):\r\n",
        "    # Initialize the pops\r\n",
        "    pops = initialize_pop(pop_size)\r\n",
        "    best_result = {}\r\n",
        "\r\n",
        "    for i in range(max_generations):\r\n",
        "        print(\"Itertaion: \",i+1)\r\n",
        "        fitness_pop = list(map(fitness, pops))\r\n",
        "\r\n",
        "        opt_fitness = min(fitness_pop)\r\n",
        "        opt_fit_index = fitness_pop.index(opt_fitness)\r\n",
        "        opt_individual = pops[opt_fit_index] #the tour that has the min distance\r\n",
        "\r\n",
        "        if i == 0:\r\n",
        "            best_result['fitness'] = opt_fitness\r\n",
        "            best_result['tour'] = opt_individual\r\n",
        "        else:\r\n",
        "            if opt_fitness <= best_result['fitness']:\r\n",
        "                best_result['fitness'] = opt_fitness\r\n",
        "                best_result['tour'] = opt_individual\r\n",
        "                print('Best Tour length at Generation: ', i+1, \" with best fitness as : \", opt_fitness)\r\n",
        "\r\n",
        "        new_pops = []\r\n",
        "        for i in range(elite_size):\r\n",
        "            new_pops.append(selection(pops))\r\n",
        "        \r\n",
        "        for i in range(pop_size-elite_size):\r\n",
        "            parent1 = selection(pops)\r\n",
        "            parent2 = selection(pops)\r\n",
        "\r\n",
        "            # crossover with some probability\r\n",
        "            if rnd.random() <= pcross:\r\n",
        "                child = ox1(parent1, parent2)\r\n",
        "            else: # copy one of the parents if crossover doesnt happend\r\n",
        "                child = rnd.choice([parent1, parent2])\r\n",
        "\r\n",
        "            if rnd.random() <= pmut:\r\n",
        "                child = mutation(child)\r\n",
        "\r\n",
        "            # Add offspring to new population\r\n",
        "            new_pops.append(child)\r\n",
        "\r\n",
        "        pops = new_pops\r\n",
        "    return best_result"
      ],
      "execution_count": null,
      "outputs": []
    },
    {
      "cell_type": "code",
      "metadata": {
        "id": "VgjUmRYm2diQ"
      },
      "source": [
        "pop_size = 50\r\n",
        "max_generations = 500\r\n",
        "crossover_prob = 0.95\r\n",
        "mutate_prob = 0.01\r\n",
        "elite=20"
      ],
      "execution_count": null,
      "outputs": []
    },
    {
      "cell_type": "code",
      "metadata": {
        "id": "J7riexwGnEHC"
      },
      "source": [
        "result = GA(pop_size, max_generations, crossover_prob, mutate_prob,elite)\r\n",
        "result"
      ],
      "execution_count": null,
      "outputs": []
    },
    {
      "cell_type": "code",
      "metadata": {
        "id": "yoTfFkslPNlh"
      },
      "source": [
        "result"
      ],
      "execution_count": null,
      "outputs": []
    }
  ]
}